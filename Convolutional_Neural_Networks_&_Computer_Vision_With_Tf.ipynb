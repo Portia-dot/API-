{
  "nbformat": 4,
  "nbformat_minor": 0,
  "metadata": {
    "colab": {
      "name": "Convolutional Neural Networks & Computer Vision With Tf.ipynb",
      "provenance": [],
      "authorship_tag": "ABX9TyMwer0WydCuHkD4yuBTtfQ5",
      "include_colab_link": true
    },
    "kernelspec": {
      "name": "python3",
      "display_name": "Python 3"
    },
    "language_info": {
      "name": "python"
    }
  },
  "cells": [
    {
      "cell_type": "markdown",
      "metadata": {
        "id": "view-in-github",
        "colab_type": "text"
      },
      "source": [
        "<a href=\"https://colab.research.google.com/github/Portia-dot/API-/blob/main/Convolutional_Neural_Networks_%26_Computer_Vision_With_Tf.ipynb\" target=\"_parent\"><img src=\"https://colab.research.google.com/assets/colab-badge.svg\" alt=\"Open In Colab\"/></a>"
      ]
    },
    {
      "cell_type": "code",
      "execution_count": null,
      "metadata": {
        "id": "13Godk72eBnT"
      },
      "outputs": [],
      "source": [
        ""
      ]
    }
  ]
}